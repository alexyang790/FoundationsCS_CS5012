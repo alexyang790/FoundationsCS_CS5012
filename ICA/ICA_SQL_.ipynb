{
  "nbformat": 4,
  "nbformat_minor": 0,
  "metadata": {
    "colab": {
      "provenance": []
    },
    "kernelspec": {
      "name": "python3",
      "display_name": "Python 3"
    },
    "language_info": {
      "name": "python"
    }
  },
  "cells": [
    {
      "cell_type": "markdown",
      "source": [
        "**Database Name: Logistics Management**\n",
        "\n",
        "This database is designed to manage and track various aspects of a logistics and delivery system, focusing on the details of drivers, vehicles, deliveries, locations, traffic data, and performance metrics. It provides a centralized structure to efficiently store and retrieve information about each component involved in the logistics process. The database can be used for tracking deliveries, optimizing routes, managing resources, and analyzing performance."
      ],
      "metadata": {
        "id": "sfcsZPBCB90z"
      }
    },
    {
      "cell_type": "markdown",
      "source": [
        "**Tables/Entities**\n",
        "\n",
        "1. Drivers\n",
        " * Description: Represents drivers who handle deliveries.\n",
        " * Attributes:\n",
        "    * DriverID: Unique identifier for each driver.\n",
        "    * Name: Full name of the driver.\n",
        "    * LicenseNo: Driver’s license number.\n",
        "    * PhoneNumber: Contact number for the driver.\n",
        " * Purpose: Stores personal and identification information about drivers.\n",
        " * Relationship: One driver can handle multiple deliveries\n",
        "2. Vehicles\n",
        "  * Description: Represents vehicles used for deliveries.\n",
        "  * Attributes:\n",
        "    * VehicleID: Unique identifier for each vehicle.\n",
        "    * VehicleType: Type of vehicle (e.g., truck, van).\n",
        "    * Capacity: The carrying capacity of the vehicle.\n",
        "  * Purpose: Holds details about the fleet of vehicles available for deliveries.\n",
        "  * Relationship: Each vehicle can be associated with multiple deliveries.\n",
        "3. Deliveries\n",
        " * Description: Represents individual delivery assignments.\n",
        " * Attributes:\n",
        "    * DeliveryID: Unique identifier for each delivery.\n",
        "    * DriverID: References the driver assigned to the delivery.\n",
        "    * VehicleID: References the vehicle used for the delivery.\n",
        "    * DeliveryDate: The date of the delivery.\n",
        "    * DeliveryStatus: Current status of the delivery (e.g., pending, completed).\n",
        " * Purpose: Links drivers, vehicles, and delivery schedules.\n",
        " * Relationships:\n",
        "    * One-to-many with drivers and vehicles.\n",
        "    * Many-to-one with start and end locations.\n",
        "    * Many-to-many with  locations.\n",
        "4. Locations\n",
        " * Description: Represents places involved in deliveries (e.g., warehouses, customer addresses).\n",
        " * Attributes:\n",
        "    * LocationID: Unique identifier for each location.\n",
        "    * LocationName: Name of the location (e.g., \"Warehouse A\").\n",
        "    * Address: Physical address of the location.\n",
        " * Purpose: Stores information about all locations associated with deliveries.\n",
        " * Relationships:\n",
        "    * Many-to-many with deliveries .\n",
        "    * One-to-many with traffic data for real-time or historical traffic tracking.\n",
        "    * One-to-Many with routes: One location can be part of multiple routes, whether as a starting or ending point.\n",
        "5. TrafficData\n",
        " * Description: Tracks traffic conditions for specific locations at given times.\n",
        " * Attributes:\n",
        "    * TrafficDataID: Unique identifier for each traffic record.\n",
        "    * LocationID: References the location associated with the traffic data.\n",
        "    * TrafficCondition: Description of the traffic state (e.g., \"Clear,\" \"Heavy\").\n",
        "    * TimeStamp: Time when the traffic condition was recorded.\n",
        " * Purpose: Captures real-time traffic data to help optimize delivery routes.\n",
        " * Relationship: Each traffic entry is tied to a location.\n",
        "6. DeliveryMetrics\n",
        " * Description: Stores performance metrics for individual deliveries.\n",
        " * Attributes:\n",
        "    * MetricID: Unique identifier for each metric record.\n",
        "    * DeliveryID: References the associated delivery.\n",
        "    * OnTime: Boolean indicating whether the delivery was on time.\n",
        "    * DelayReason: Reason for delay (if applicable).\n",
        " * Purpose: Provides insights into delivery performance and reasons for any delays.\n",
        " * Relationship:  One-to-one for performance tracking. Tracks performance metrics, such as on-time status and delays, linked one-to-one with deliveries.\n",
        "7. RouteMetrics\n",
        " * Description: Stores performance data for specific routes between locations.\n",
        " * Attributes:\n",
        "     * RouteMetricID: Unique identifier for each route metric record.\n",
        "     * StartLocationID: References the starting location.\n",
        "     * EndLocationID: References the ending location.\n",
        "     * EstimatedTime: Estimated time for the route.\n",
        "     * ActualTime: Actual time taken to complete the route.\n",
        " * Purpose: Tracks and compares estimated vs. actual times for delivery routes, aiding in route optimization.\n",
        "\n",
        "8. DeliveryLocations\n",
        " * Description: Links deliveries to locations with additional details about location type.\n",
        " * Attributes:\n",
        "     * DeliveryLocationID: Unique identifier for each delivery-location association.\n",
        "     * DeliveryID: References the associated delivery.\n",
        "     * LocationID: References the associated location.\n",
        "     * LocationType: Indicates the role of the location in the delivery (e.g., \"start,\" \"end,\" \"stop\").\n",
        " * Purpose: Models the many-to-many relationship between deliveries and locations, providing context for each location's role in a delivery.\n",
        "\n"
      ],
      "metadata": {
        "id": "zGpQmhi3C_vO"
      }
    },
    {
      "cell_type": "markdown",
      "source": [
        "**Relations**\n",
        "\n",
        "1. Relationships Between Entities Deliveries ↔ Drivers\n",
        "\n",
        "    * Relationship Type: One-to-Many\n",
        "    * A driver (DriverID) can handle many deliveries, but each delivery is assigned to one driver.\n",
        "    * Foreign Key: DriverID in Deliveries references DriverID in Drivers.\n",
        "\n",
        "2. Deliveries ↔ Vehicles\n",
        "\n",
        "* Relationship Type: One-to-Many\n",
        "* A vehicle (VehicleID) can be used for multiple deliveries, but each delivery uses one vehicle.\n",
        "* Foreign Key: VehicleID in Deliveries references VehicleID in Vehicles.\n",
        "\n",
        "\n",
        " 3. Deliveries ↔ Locations\n",
        "* Relationship Type: Many-to-Many\n",
        "* Description: A delivery can pass through multiple locations, and a location can be part of multiple deliveries. This is managed via the DeliveryLocations junction table.\n",
        "* Foreign Keys:\n",
        "     * DeliveryID in DeliveryLocations references DeliveryID in Deliveries.\n",
        "     * LocationID in DeliveryLocations references LocationID in Locations.\n",
        "\n",
        "4. Deliveries ↔ DeliveryMetrics\n",
        " * Relationship Type: One-to-One\n",
        " * Description: Each delivery has one set of associated delivery metrics.\n",
        " * Foreign Key: DeliveryID in DeliveryMetrics references DeliveryID in Deliveries.\n",
        "\n",
        "5. Locations ↔ TrafficData\n",
        "  * Relationship Type: One-to-Many\n",
        "  * Description: A location (LocationID) can have multiple traffic data entries recorded over time.\n",
        "  * Foreign Key: LocationID in TrafficData references LocationID in Locations.\n",
        "\n",
        " 6. Locations ↔ RouteMetrics\n",
        "  * Relationship Type: One-to-Many\n",
        "  * Description: A location can serve as the start or end point for multiple routes.\n",
        "  * Foreign Keys:\n",
        "      * StartLocationID in RouteMetrics references LocationID in Locations.\n",
        "      * EndLocationID in RouteMetrics references LocationID in Locations.\n",
        "\n"
      ],
      "metadata": {
        "id": "nnHzu3dPT_em"
      }
    },
    {
      "cell_type": "code",
      "execution_count": 2,
      "metadata": {
        "id": "N1yI3cxnBavt"
      },
      "outputs": [],
      "source": [
        "import sqlite3\n",
        "import random\n",
        "import string\n",
        "from datetime import datetime, timedelta\n",
        "import pandas as pd"
      ]
    },
    {
      "cell_type": "code",
      "source": [
        "# Connect to SQLite database (or create it if it doesn't exist)\n",
        "# sqlite3.connect() establishes a connection to the specified SQLite database.\n",
        "# If the database does not exist, it will be created.\n",
        "conn = sqlite3.connect('logistics.db')\n",
        "\n",
        "# Create a cursor object, which is used to execute SQL commands\n",
        "cursor = conn.cursor()\n",
        "\n"
      ],
      "metadata": {
        "id": "IkqNvXjUYe09"
      },
      "execution_count": 3,
      "outputs": []
    },
    {
      "cell_type": "code",
      "source": [
        "# Create the 'Drivers' table if it does not already exist\n",
        "# This table stores information about drivers, such as their ID, name, license number, and phone number.\n",
        "cursor.execute('''\n",
        "    CREATE TABLE IF NOT EXISTS Drivers (\n",
        "        DriverID INTEGER PRIMARY KEY,       -- The unique identifier for each driver\n",
        "        Name TEXT NOT NULL,                  -- The driver's name (cannot be NULL)\n",
        "        LicenseNo TEXT NOT NULL,             -- The driver's license number (cannot be NULL)\n",
        "        PhoneNumber TEXT NOT NULL            -- The driver's phone number (cannot be NULL)\n",
        "    )\n",
        "''')\n",
        "\n"
      ],
      "metadata": {
        "colab": {
          "base_uri": "https://localhost:8080/"
        },
        "id": "psk-gCX0YhFx",
        "outputId": "c918ca85-703f-4807-cd28-ee879abb62b7"
      },
      "execution_count": null,
      "outputs": [
        {
          "output_type": "execute_result",
          "data": {
            "text/plain": [
              "<sqlite3.Cursor at 0x7d7d8485ab40>"
            ]
          },
          "metadata": {},
          "execution_count": 3
        }
      ]
    },
    {
      "cell_type": "code",
      "source": [
        "# Create the 'Vehicles' table if it does not already exist\n",
        "# This table stores information about vehicles, including their ID, type, and capacity.\n",
        "cursor.execute('''\n",
        "    CREATE TABLE IF NOT EXISTS Vehicles (\n",
        "        VehicleID INTEGER PRIMARY KEY,       -- The unique identifier for each vehicle\n",
        "        VehicleType TEXT NOT NULL,           -- The type of the vehicle (e.g., truck, van, etc.)\n",
        "        Capacity INTEGER NOT NULL            -- The capacity of the vehicle (e.g., number of items it can carry)\n",
        "    )\n",
        "''')\n",
        "\n"
      ],
      "metadata": {
        "colab": {
          "base_uri": "https://localhost:8080/"
        },
        "id": "VR0W6OUCYjaJ",
        "outputId": "794591ac-71c4-4378-b4bb-d855e0f918db"
      },
      "execution_count": null,
      "outputs": [
        {
          "output_type": "execute_result",
          "data": {
            "text/plain": [
              "<sqlite3.Cursor at 0x7d7d8485ab40>"
            ]
          },
          "metadata": {},
          "execution_count": 4
        }
      ]
    },
    {
      "cell_type": "code",
      "source": [
        "# Create the 'Deliveries' table if it does not already exist\n",
        "# This table stores delivery information such as the assigned driver and vehicle, delivery date, and status.\n",
        "# Foreign keys are used to reference the 'Drivers' and 'Vehicles' tables.\n",
        "cursor.execute('''\n",
        "    CREATE TABLE IF NOT EXISTS Deliveries (\n",
        "        DeliveryID INTEGER PRIMARY KEY,      -- The unique identifier for each delivery\n",
        "        DriverID INTEGER,                    -- The ID of the driver assigned to the delivery\n",
        "        VehicleID INTEGER,                   -- The ID of the vehicle assigned to the delivery\n",
        "        DeliveryDate TEXT NOT NULL,           -- The date of the delivery (cannot be NULL)\n",
        "        DeliveryStatus TEXT NOT NULL,         -- The status of the delivery (e.g., pending, completed)\n",
        "        FOREIGN KEY (DriverID) REFERENCES Drivers(DriverID),  -- Establishes a foreign key relationship with the Drivers table\n",
        "        FOREIGN KEY (VehicleID) REFERENCES Vehicles(VehicleID) -- Establishes a foreign key relationship with the Vehicles table\n",
        "    )\n",
        "''')\n",
        "\n"
      ],
      "metadata": {
        "colab": {
          "base_uri": "https://localhost:8080/"
        },
        "id": "yiVMrQaFYld6",
        "outputId": "76c607d0-38ca-4689-8771-30391af298a0"
      },
      "execution_count": null,
      "outputs": [
        {
          "output_type": "execute_result",
          "data": {
            "text/plain": [
              "<sqlite3.Cursor at 0x7d7d8485ab40>"
            ]
          },
          "metadata": {},
          "execution_count": 5
        }
      ]
    },
    {
      "cell_type": "code",
      "source": [
        "# Create the 'Locations' table if it does not already exist\n",
        "# This table stores information about various locations, including their names and addresses.\n",
        "cursor.execute('''\n",
        "    CREATE TABLE IF NOT EXISTS Locations (\n",
        "        LocationID INTEGER PRIMARY KEY,       -- The unique identifier for each location\n",
        "        LocationName TEXT NOT NULL,            -- The name of the location (cannot be NULL)\n",
        "        Address TEXT NOT NULL                  -- The address of the location (cannot be NULL)\n",
        "    )\n",
        "''')\n"
      ],
      "metadata": {
        "colab": {
          "base_uri": "https://localhost:8080/"
        },
        "id": "BMt1cvY-YnmM",
        "outputId": "a6d115f6-87ad-4544-e7f1-f889f8dd442b"
      },
      "execution_count": null,
      "outputs": [
        {
          "output_type": "execute_result",
          "data": {
            "text/plain": [
              "<sqlite3.Cursor at 0x7d7d8485ab40>"
            ]
          },
          "metadata": {},
          "execution_count": 6
        }
      ]
    },
    {
      "cell_type": "code",
      "source": [
        "\n",
        "# Create the 'TrafficData' table if it does not already exist\n",
        "# This table stores traffic data for specific locations, including the traffic condition and timestamp.\n",
        "# Foreign key references the 'Locations' table.\n",
        "cursor.execute('''\n",
        "    CREATE TABLE IF NOT EXISTS TrafficData (\n",
        "        TrafficDataID INTEGER PRIMARY KEY,    -- The unique identifier for each traffic data entry\n",
        "        LocationID INTEGER,                    -- The ID of the location associated with the traffic data\n",
        "        TrafficCondition TEXT NOT NULL,        -- The condition of traffic (e.g., clear, heavy, etc.)\n",
        "        TimeStamp TEXT NOT NULL,               -- The timestamp of when the traffic data was recorded\n",
        "        FOREIGN KEY (LocationID) REFERENCES Locations(LocationID) -- Establishes a foreign key relationship with the Locations table\n",
        "    )\n",
        "''')\n",
        "\n"
      ],
      "metadata": {
        "colab": {
          "base_uri": "https://localhost:8080/"
        },
        "id": "TVoo1Z-_YpbB",
        "outputId": "51c4b7ff-d9b5-4cd7-8ffd-d4b3ec2fbacb"
      },
      "execution_count": null,
      "outputs": [
        {
          "output_type": "execute_result",
          "data": {
            "text/plain": [
              "<sqlite3.Cursor at 0x7d7d8485ab40>"
            ]
          },
          "metadata": {},
          "execution_count": 7
        }
      ]
    },
    {
      "cell_type": "code",
      "source": [
        "# Question 1: Create the 'DeliveryMetrics' table if it does not already exist\n",
        "# This table stores performance metrics for deliveries, such as whether they were on time and reasons for delays.\n",
        "# Foreign key references the 'Deliveries' table.\n",
        "\n",
        "\n"
      ],
      "metadata": {
        "id": "F_VB3Z-eYrVZ"
      },
      "execution_count": 4,
      "outputs": []
    },
    {
      "cell_type": "code",
      "source": [
        "# Create the 'RouteMetrics' table if it does not already exist\n",
        "# This table stores data on route performance, including estimated and actual delivery times for each route.\n",
        "# Foreign keys reference the 'Locations' table for both start and end locations.\n",
        "cursor.execute('''\n",
        "    CREATE TABLE IF NOT EXISTS RouteMetrics (\n",
        "        RouteMetricID INTEGER PRIMARY KEY,    -- The unique identifier for each route metric entry\n",
        "        StartLocationID INTEGER,               -- The ID of the starting location of the route\n",
        "        EndLocationID INTEGER,                 -- The ID of the ending location of the route\n",
        "        EstimatedTime TEXT NOT NULL,           -- The estimated time to complete the route (e.g., \"1 hour\")\n",
        "        ActualTime TEXT NOT NULL,              -- The actual time taken to complete the route\n",
        "        FOREIGN KEY (StartLocationID) REFERENCES Locations(LocationID), -- Establishes a foreign key relationship with the Locations table for the start location\n",
        "        FOREIGN KEY (EndLocationID) REFERENCES Locations(LocationID) -- Establishes a foreign key relationship with the Locations table for the end location\n",
        "    )\n",
        "''')\n"
      ],
      "metadata": {
        "colab": {
          "base_uri": "https://localhost:8080/"
        },
        "id": "85Wem3f_YtkF",
        "outputId": "5ecdaa4c-1c27-4198-bb0a-003ecd409862"
      },
      "execution_count": null,
      "outputs": [
        {
          "output_type": "execute_result",
          "data": {
            "text/plain": [
              "<sqlite3.Cursor at 0x7d7d8485ab40>"
            ]
          },
          "metadata": {},
          "execution_count": 9
        }
      ]
    },
    {
      "cell_type": "code",
      "source": [
        "\n",
        "# Create the 'DeliveryLocations' table if it does not already exist\n",
        "# This table links deliveries to their respective locations and the type of location (start, end, or stop).\n",
        "# Foreign key references the 'Deliveries' and 'Locations' tables.\n",
        "cursor.execute('''\n",
        "    CREATE TABLE IF NOT EXISTS DeliveryLocations (\n",
        "        DeliveryLocationID INTEGER PRIMARY KEY, -- The unique identifier for each delivery location entry\n",
        "        DeliveryID INTEGER,                    -- The ID of the associated delivery\n",
        "        LocationID INTEGER,                    -- The ID of the associated location\n",
        "        LocationType TEXT CHECK(LocationType IN ('start', 'end', 'stop')) NOT NULL, -- Type of location (start, end, stop)\n",
        "        FOREIGN KEY (DeliveryID) REFERENCES Deliveries(DeliveryID), -- Establishes a foreign key relationship with the Deliveries table\n",
        "        FOREIGN KEY (LocationID) REFERENCES Locations(LocationID) -- Establishes a foreign key relationship with the Locations table\n",
        "    )\n",
        "''')\n",
        "\n"
      ],
      "metadata": {
        "colab": {
          "base_uri": "https://localhost:8080/"
        },
        "id": "heiE9wB1YvK2",
        "outputId": "ef111743-0f09-44b9-cbdc-d2e00494c641"
      },
      "execution_count": null,
      "outputs": [
        {
          "output_type": "execute_result",
          "data": {
            "text/plain": [
              "<sqlite3.Cursor at 0x7d7d8485ab40>"
            ]
          },
          "metadata": {},
          "execution_count": 10
        }
      ]
    },
    {
      "cell_type": "code",
      "source": [
        "# Commit changes to the database, saving the tables and schema definitions\n",
        "conn.commit()\n",
        "\n",
        "# Output a message indicating that the tables were created successfully\n",
        "print(\"Tables created successfully.\")"
      ],
      "metadata": {
        "colab": {
          "base_uri": "https://localhost:8080/"
        },
        "id": "9o3mg5_xYwoA",
        "outputId": "8b259de0-3e0d-4591-a89f-5953f13f4176"
      },
      "execution_count": null,
      "outputs": [
        {
          "output_type": "stream",
          "name": "stdout",
          "text": [
            "Tables created successfully.\n"
          ]
        }
      ]
    },
    {
      "cell_type": "code",
      "source": [
        "# Insert 50 rows into the 'Drivers' table\n",
        "for _ in range(50):\n",
        "    name = ''.join(random.choices(string.ascii_letters + string.digits, k=10))  # Random 10-character string for name\n",
        "    license_no = ''.join(random.choices(string.ascii_letters + string.digits, k=8))  # Random 8-character string for license number\n",
        "    phone_number = f\"({random.randint(100, 999)}) {random.randint(100, 999)}-{random.randint(1000, 9999)}\"  # Random phone number\n",
        "    cursor.execute('''\n",
        "        INSERT INTO Drivers (Name, LicenseNo, PhoneNumber)\n",
        "        VALUES (?, ?, ?)\n",
        "    ''', (name, license_no, phone_number))"
      ],
      "metadata": {
        "id": "20vtQMZLZm-r"
      },
      "execution_count": null,
      "outputs": []
    },
    {
      "cell_type": "code",
      "source": [
        "# Insert 50 rows into the 'Vehicles' table\n",
        "for _ in range(50):\n",
        "    vehicle_type = random.choice([\"Truck\", \"Van\", \"Car\", \"Motorcycle\"])  # Random vehicle type\n",
        "    capacity = random.randint(1, 10)  # Random capacity between 1 and 10\n",
        "    cursor.execute('''\n",
        "        INSERT INTO Vehicles (VehicleType, Capacity)\n",
        "        VALUES (?, ?)\n",
        "    ''', (vehicle_type, capacity))"
      ],
      "metadata": {
        "id": "wJMXd6n_Zp9j"
      },
      "execution_count": null,
      "outputs": []
    },
    {
      "cell_type": "code",
      "source": [
        "# Insert 50 rows into the 'Locations' table\n",
        "for _ in range(50):\n",
        "    location_name = ''.join(random.choices(string.ascii_letters, k=8))  # Random 8-character string for location name\n",
        "    address = ''.join(random.choices(string.ascii_letters + string.digits, k=15))  # Random 15-character string for address\n",
        "    cursor.execute('''\n",
        "        INSERT INTO Locations (LocationName, Address)\n",
        "        VALUES (?, ?)\n",
        "    ''', (location_name, address))\n"
      ],
      "metadata": {
        "id": "H8_nQAnEZucd"
      },
      "execution_count": null,
      "outputs": []
    },
    {
      "cell_type": "code",
      "source": [
        "# Insert 50 rows into the 'TrafficData' table\n",
        "for _ in range(50):\n",
        "    location_id = random.randint(1, 50)  # Random location ID between 1 and 50\n",
        "    traffic_condition = random.choice([\"Clear\", \"Heavy\", \"Moderate\", \"Congested\"])  # Random traffic condition\n",
        "    timestamp = (datetime.now() - timedelta(days=random.randint(0, 365))).strftime(\"%Y-%m-%d\")  # Random date within the last year\n",
        "    cursor.execute('''\n",
        "        INSERT INTO TrafficData (LocationID, TrafficCondition, TimeStamp)\n",
        "        VALUES (?, ?, ?)\n",
        "    ''', (location_id, traffic_condition, timestamp))"
      ],
      "metadata": {
        "id": "Bu79HroSZulp"
      },
      "execution_count": null,
      "outputs": []
    },
    {
      "cell_type": "code",
      "source": [
        "# Insert 50 rows into the 'Deliveries' table\n",
        "for _ in range(50):\n",
        "    driver_id = random.randint(1, 50)  # Random driver ID between 1 and 50\n",
        "    vehicle_id = random.randint(1, 50)  # Random vehicle ID between 1 and 50\n",
        "    delivery_date = (datetime.now() - timedelta(days=random.randint(0, 365))).strftime(\"%Y-%m-%d\")  # Random delivery date within the last year\n",
        "    delivery_status = random.choice([\"Pending\", \"Completed\", \"In-Progress\"])  # Random delivery status\n",
        "    cursor.execute('''\n",
        "        INSERT INTO Deliveries (DriverID, VehicleID, DeliveryDate, DeliveryStatus)\n",
        "        VALUES (?, ?, ?, ?)\n",
        "    ''', (driver_id, vehicle_id, delivery_date, delivery_status))\n",
        "\n"
      ],
      "metadata": {
        "id": "fvE-Wn-IZqDs"
      },
      "execution_count": null,
      "outputs": []
    },
    {
      "cell_type": "code",
      "source": [
        "# Insert 50 rows into the 'DeliveryMetrics' table\n",
        "for _ in range(50):\n",
        "    delivery_id = random.randint(1, 50)  # Random delivery ID between 1 and 50\n",
        "    on_time = random.choice([True, False])  # Random on-time status\n",
        "    delay_reason = ''.join(random.choices(string.ascii_letters, k=10)) if not on_time else None  # Random delay reason if not on time\n",
        "    cursor.execute('''\n",
        "        INSERT INTO DeliveryMetrics (DeliveryID, OnTime, DelayReason)\n",
        "        VALUES (?, ?, ?)\n",
        "    ''', (delivery_id, on_time, delay_reason))\n",
        "\n"
      ],
      "metadata": {
        "id": "B5gOjxv7YyX_"
      },
      "execution_count": null,
      "outputs": []
    },
    {
      "cell_type": "code",
      "source": [
        "# Insert 50 rows into the 'RouteMetrics' table\n",
        "for _ in range(50):\n",
        "    start_location_id = random.randint(1, 50)  # Random start location ID between 1 and 50\n",
        "    end_location_id = random.randint(1, 50)  # Random end location ID between 1 and 50\n",
        "    estimated_time = f\"{random.randint(1, 5)} hours\"  # Random estimated time between 1 and 5 hours\n",
        "    actual_time = f\"{random.randint(1, 5)} hours\"  # Random actual time between 1 and 5 hours\n",
        "    cursor.execute('''\n",
        "        INSERT INTO RouteMetrics (StartLocationID, EndLocationID, EstimatedTime, ActualTime)\n",
        "        VALUES (?, ?, ?, ?)\n",
        "    ''', (start_location_id, end_location_id, estimated_time, actual_time))\n",
        "\n"
      ],
      "metadata": {
        "id": "qwytg8lVZfOl"
      },
      "execution_count": null,
      "outputs": []
    },
    {
      "cell_type": "code",
      "source": [
        "#Question 2: Insert 50 rows into the 'DeliveryLocations' table\n",
        "\n",
        "\n"
      ],
      "metadata": {
        "id": "jEUQv3g5ZhDT"
      },
      "execution_count": 5,
      "outputs": []
    },
    {
      "cell_type": "code",
      "source": [
        "#Question 3: Write an SQL query to update the PhoneNumber of a driver with DriverID = 5 in the Drivers table.\n",
        "# Update the phone number for the driver with DriverID = 5\n"
      ],
      "metadata": {
        "id": "EK1vzQKUaAtB"
      },
      "execution_count": 6,
      "outputs": []
    },
    {
      "cell_type": "code",
      "source": [
        "#Question 4: Write an SQL query to update the TrafficCondition in the TrafficData table to Congested for a LocationID of 5\n",
        "#and also set the Capacity of the vehicle in the Vehicles table with VehicleID = 8 to 20\n",
        "\n"
      ],
      "metadata": {
        "id": "IDvZs0VBbDi4"
      },
      "execution_count": 7,
      "outputs": []
    },
    {
      "cell_type": "code",
      "source": [
        "#Question 5: Write an SQL query to delete all deliveries with DeliveryStatus = 'Cancelled' from the Deliveries table.\n"
      ],
      "metadata": {
        "id": "ExaQzCnHblyL"
      },
      "execution_count": 8,
      "outputs": []
    },
    {
      "cell_type": "code",
      "source": [
        "#Question 6: Write an SQL query to select all columns from the Vehicles table where the VehicleType is 'Truck'.\n",
        "\n"
      ],
      "metadata": {
        "id": "CaKqiyj-b5rA"
      },
      "execution_count": 9,
      "outputs": []
    },
    {
      "cell_type": "code",
      "source": [
        "#Question 7: Write an SQL query to select all columns from the Deliveries table where the DeliveryStatus is 'Completed' and the DriverID is 3.\n"
      ],
      "metadata": {
        "id": "NqBNmmfHcMB3"
      },
      "execution_count": 10,
      "outputs": []
    },
    {
      "cell_type": "code",
      "source": [
        "#Question 8: Write an SQL query to select the count of deliveries grouped by DeliveryStatus from the Deliveries table.\n",
        "\n"
      ],
      "metadata": {
        "id": "icISfI96cZbB"
      },
      "execution_count": 11,
      "outputs": []
    },
    {
      "cell_type": "code",
      "source": [
        "#Question 9: Write an SQL query to select the DriverID, Name, and VehicleType for each delivery by joining the Deliveries, Drivers, and Vehicles tables.\n"
      ],
      "metadata": {
        "id": "NcA9vj7acpWr"
      },
      "execution_count": 12,
      "outputs": []
    }
  ]
}