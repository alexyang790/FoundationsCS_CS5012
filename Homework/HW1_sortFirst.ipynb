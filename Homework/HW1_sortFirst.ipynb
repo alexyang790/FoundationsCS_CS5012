{
  "cells": [
    {
      "cell_type": "markdown",
      "metadata": {
        "id": "YgaqXBYJDx0D"
      },
      "source": [
        "#HW #1. Improve code Efficiency: Sort First!\n",
        "\n",
        "## Scenario.\n",
        "\n",
        "In a two class, classification problem, it is common to use a classifier that outputs confidences (rather than simply class labels). A good example of this is a Support Vector Machine. A pro for using such a classifier is that you gain more information -- specifically the confidence in the classification result. A con is that in order to make a final classification decision, a threshold value must be determined. For example, if a threshold of 0.75 is chosen, the class label 1 would be assigned for confidences greater than 0.75 and for confidences less than 0.75 a class label of 0 would be assigned. However, this begs the question: how is the threshold chosen?\n",
        "\n",
        "Many data scientists will choose a threshold based on the experimental results and/or operational constraints. In this code example, we assume that we have confidences and true labels for a large data set. To determine a good threshold we will compute the true positive rates (TPRs) and false positive rates (FPRs) at all relevant thresholds. The relevant thresholds are considered those that would change the TPRs and FPRs.\n",
        "\n",
        "In the code below, a function is defined to compute the TPR and FPR at all relevant thresholds. However, the code is not very efficient and can be improved. (Note there are tips and hints found in the comments.)\n",
        "\n",
        "Your task is the following:\n",
        "\n",
        "## Question 1\n",
        "**40 POINTS**  \n",
        "Assess the time complexity of the method computeAllTPRs(...). Provide a line-by-line assessment in comments identifying the proportional number of steps (bounding notation is sufficient) per line: eg, O(1), O(log n), O(n), etc. Also, derive a time step function T(n) for the entire method (where n is the size of input true_label).\n",
        "\n",
        "## Question 2\n",
        "**30 POINTS**  \n",
        "Implement a new function computeAllTPRs_improved(...) which performs the same task as computeAllTPRs but has a significantly reduced time complexity. Also provide a line-by-line assessment in comments identifying the proportional number of steps per line, and derive a time step function T(n) for the entire method (where n is the size of input true_label).\n",
        "\n",
        "## Question 3\n",
        "**30 POINTS**  \n",
        "Compare the theoretical time complexities of both methods and predict which is more efficient. Next, test your prediction by timing both methods on sample inputs of varying sizes. Create a plot of inputSize vs runtime (as done in similar class examples).  \n",
        "\n",
        "**NOTE: Do not include runtimes for graphing**\n",
        "\n",
        "**TOTAL POINTS: 100**\n",
        "\n",
        "---"
      ]
    },
    {
      "cell_type": "code",
      "execution_count": 7,
      "metadata": {
        "id": "tQs8b3ccEskN"
      },
      "outputs": [],
      "source": [
        "import matplotlib.pyplot as plt\n",
        "import random\n",
        "from copy import deepcopy\n",
        "from numpy import argmax"
      ]
    },
    {
      "cell_type": "markdown",
      "metadata": {
        "id": "l4t6Gd-XNWdr"
      },
      "source": [
        "Answer Question #1 in the comments of the code chunk below."
      ]
    },
    {
      "cell_type": "code",
      "execution_count": 8,
      "metadata": {
        "id": "IFu90tkjEORa"
      },
      "outputs": [],
      "source": [
        "def computeAllTPRs(true_label, confs):\n",
        "        '''\n",
        "\n",
        "        inputs:\n",
        "         - true_label: list of labels, assumed to be 0 or 1 (a two class problem)\n",
        "         - confs: list of confidences\n",
        "\n",
        "        This method computes the True Positive Rate (TPRs) and FPRs for all relevant\n",
        "        thresholds given true_label and confs. Relevant thresholds are considered\n",
        "        all different values found in confs.\n",
        "        '''\n",
        "\n",
        "        # Define / initialize  variables\n",
        "        sentinelValue = -1 # O(1) # used to replace max value found thus far \n",
        "        totalPositives = sum(true_label) # O(1)\n",
        "        totalNegatives = len(true_label) - totalPositives # O(1)\n",
        "        truePositives = 0 # O(1)\n",
        "        falsePositives = 0 # O(1)\n",
        "        # Hint: Consider Memory Management\n",
        "        truePositiveRate = [] # O(1)\n",
        "        falsePositiveRate = [] # O(1)\n",
        "\n",
        "        #Hint: Although not explicitly clear, the loop structure below is an\n",
        "            #embeded loop ie, O(n^2) ... do you see why??\n",
        "        #Hint: If you sort the confidences first you can improve the iteration scheme.\n",
        "\n",
        "        # Iterate over all relevant thresholds. Compute TPR and FPR for each and\n",
        "        # append to truePositiveRate , falsePositiveRate lists.\n",
        "\n",
        "        # there is an outer loop over all thresholds hence O(n) for all computations\n",
        "        for i in range(len(confs)): # O(n)\n",
        "          maxVal = max(confs)  # O(n)\n",
        "          argMax = argmax(confs) # O(n)\n",
        "          confs[argMax] = sentinelValue # O(1)\n",
        "          if true_label[argMax]==1: # O(1)\n",
        "            truePositives += 1 # O(1)\n",
        "          else:\n",
        "            falsePositives += 1 # O(1)\n",
        "\n",
        "          truePositiveRate.append(truePositives/totalPositives) # O(1)\n",
        "          falsePositiveRate.append(falsePositives/totalNegatives) # O(1)\n"
      ]
    },
    {
      "cell_type": "code",
      "execution_count": 9,
      "metadata": {
        "id": "6RBVDmTOeysa"
      },
      "outputs": [],
      "source": [
        "def testComputeAllTPRs(numSamples):\n",
        "\n",
        "  confList = []\n",
        "  labels = []\n",
        "  maxVal = 10000\n",
        "  for i in range(0,numSamples):\n",
        "    n = random.randint(1,maxVal)\n",
        "    confList.append(n/maxVal)\n",
        "    if n/maxVal > .5:\n",
        "      lab = 1\n",
        "    else:\n",
        "      lab = 0\n",
        "    labels.append(lab)\n",
        "  computeAllTPRs(labels, deepcopy(confList))  # Why a deepcopy here?"
      ]
    },
    {
      "cell_type": "markdown",
      "metadata": {},
      "source": [
        "### Time Step Function $T(n)$ \n",
        "\n",
        "- before the loop O(n)\n",
        "- inside the loop each iteration calls for max() and argmax() which are both O(n) so the overall time complexity for the loop is O(n^2)\n",
        "\n",
        "the T(n) = O(n^2)"
      ]
    },
    {
      "cell_type": "markdown",
      "metadata": {
        "id": "J0aNsuFFMzLt"
      },
      "source": [
        "Below, provide your implementation for Question #2."
      ]
    },
    {
      "cell_type": "code",
      "execution_count": 10,
      "metadata": {
        "id": "I4SoYMYBMyzA"
      },
      "outputs": [],
      "source": [
        "def computeAllTPRs(true_label, confs):\n",
        "        '''\n",
        "\n",
        "        inputs:\n",
        "         - true_label: list of labels, assumed to be 0 or 1 (a two class problem)\n",
        "         - confs: list of confidences\n",
        "\n",
        "        This method computes the True Positive Rate (TPRs) and FPRs for all relevant\n",
        "        thresholds given true_label and confs. Relevant thresholds are considered\n",
        "        all different values found in confs.\n",
        "        '''\n",
        "\n",
        "        # Define / initialize  variables\n",
        "        sentinelValue = -1 # O(1) # used to replace max value found thus far \n",
        "        totalPositives = sum(true_label) # O(n)\n",
        "        totalNegatives = len(true_label) - totalPositives # O(1)\n",
        "        truePositives = 0 # O(1)\n",
        "        falsePositives = 0 # O(1)\n",
        "        # Hint: Consider Memory Management\n",
        "        truePositiveRate = [] # O(1)\n",
        "        falsePositiveRate = [] # O(1)\n",
        "\n",
        "        sorted_paired_data = sorted(zip(confs, true_label), reverse=True) # O(nlogn) \n",
        "        \n",
        "        for conf, label in sorted_paired_data: # O(n)\n",
        "          if label == 1:\n",
        "            truePositives += 1 # O(1)\n",
        "          else:  \n",
        "            falsePositives += 1 # O(1)\n",
        "\n",
        "          truePositiveRate.append(truePositives/totalPositives) # O(1)\n",
        "          falsePositiveRate.append(falsePositives/totalNegatives) # O(1)\n",
        "\n",
        "        return truePositiveRate, falsePositiveRate\n"
      ]
    },
    {
      "cell_type": "markdown",
      "metadata": {
        "id": "lP72j3GqM6AH"
      },
      "source": [
        "Question #3. Below, provide your code which records and plots the runtime for the original and improved methods."
      ]
    },
    {
      "cell_type": "code",
      "execution_count": 11,
      "metadata": {
        "id": "PAWM8pogeysb"
      },
      "outputs": [
        {
          "data": {
            "image/png": "[encoded data removed]",
            "text/plain": [
              "<Figure size 640x480 with 1 Axes>"
            ]
          },
          "metadata": {},
          "output_type": "display_data"
        }
      ],
      "source": [
        "import time\n",
        "import random\n",
        "import matplotlib.pyplot as plt\n",
        "\n",
        "# Original function\n",
        "def computeAllTPRs(true_label, confs):\n",
        "    sentinelValue = -1\n",
        "    totalPositives = sum(true_label)\n",
        "    totalNegatives = len(true_label) - totalPositives\n",
        "    truePositives = 0\n",
        "    falsePositives = 0\n",
        "    truePositiveRate = []\n",
        "    falsePositiveRate = []\n",
        "\n",
        "    for i in range(len(confs)):\n",
        "        maxVal = max(confs)\n",
        "        argMax = confs.index(maxVal)\n",
        "        confs[argMax] = sentinelValue\n",
        "        if true_label[argMax] == 1:\n",
        "            truePositives += 1\n",
        "        else:\n",
        "            falsePositives += 1\n",
        "\n",
        "        truePositiveRate.append(truePositives / totalPositives)\n",
        "        falsePositiveRate.append(falsePositives / totalNegatives)\n",
        "\n",
        "    return truePositiveRate, falsePositiveRate\n",
        "\n",
        "# Improved function \n",
        "def computeAllTPRs_improved(true_label, confs):\n",
        "    totalPositives = sum(true_label)\n",
        "    totalNegatives = len(true_label) - totalPositives\n",
        "    truePositives = 0\n",
        "    falsePositives = 0\n",
        "    truePositiveRate = []\n",
        "    falsePositiveRate = []\n",
        "\n",
        "    sorted_paired_data = sorted(zip(confs, true_label), reverse=True)\n",
        "\n",
        "    for conf, label in sorted_paired_data:\n",
        "        if label == 1:\n",
        "            truePositives += 1\n",
        "        else:\n",
        "            falsePositives += 1\n",
        "\n",
        "        truePositiveRate.append(truePositives / totalPositives)\n",
        "        falsePositiveRate.append(falsePositives / totalNegatives)\n",
        "\n",
        "    return truePositiveRate, falsePositiveRate\n",
        "\n",
        "# Testing runtime \n",
        "def test_runtime():\n",
        "    sizes = [10, 100, 500, 1000, 1500, 5000, 10000]\n",
        "    og_times = []\n",
        "    new_times = []\n",
        "\n",
        "    for size in sizes:\n",
        "        confList = [random.random() for _ in range(size)]\n",
        "        labels = [1 if c > 0.5 else 0 for c in confList]\n",
        "\n",
        "        # og time\n",
        "        start = time.time()\n",
        "        computeAllTPRs(labels, confList.copy())\n",
        "        end = time.time()\n",
        "        og_times.append(end - start)\n",
        "\n",
        "        # new function time\n",
        "        start = time.time()\n",
        "        computeAllTPRs_improved(labels, confList.copy())\n",
        "        end = time.time()\n",
        "        new_times.append(end - start)\n",
        "\n",
        "    # Plotting\n",
        "    plt.plot(sizes, og_times, label=\"Original function\")\n",
        "    plt.plot(sizes, new_times, label=\"Improved function\")\n",
        "    plt.xlabel('Sample Size')\n",
        "    plt.ylabel('Time in Seconds')\n",
        "    plt.legend()\n",
        "    plt.show()\n",
        "\n",
        "test_runtime()"
      ]
    }
  ],
  "metadata": {
    "colab": {
      "provenance": []
    },
    "kernelspec": {
      "display_name": "Python 3",
      "language": "python",
      "name": "python3"
    },
    "language_info": {
      "codemirror_mode": {
        "name": "ipython",
        "version": 3
      },
      "file_extension": ".py",
      "mimetype": "text/x-python",
      "name": "python",
      "nbconvert_exporter": "python",
      "pygments_lexer": "ipython3",
      "version": "3.9.19"
    }
  },
  "nbformat": 4,
  "nbformat_minor": 0
}
