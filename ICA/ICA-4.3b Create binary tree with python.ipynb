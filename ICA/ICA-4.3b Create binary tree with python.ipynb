{
 "cells": [
  {
   "cell_type": "code",
   "execution_count": 2,
   "metadata": {},
   "outputs": [
    {
     "name": "stdout",
     "output_type": "stream",
     "text": [
      "Binary tree:\n",
      "\n",
      "    ___3__\n",
      "   /      \\\n",
      "  1        6\n",
      " / \\      / \\\n",
      "2   11   9   5\n",
      "\n"
     ]
    }
   ],
   "source": [
    "from binarytree import Node\n",
    "\n",
    "root = Node(3)\n",
    "root.left = Node(1)\n",
    "root.right = Node(6)\n",
    "root.left.left = Node(2)\n",
    "root.left.right = Node(11)\n",
    "root.right.left = Node(9)\n",
    "root.right.right = Node(5)\n",
    "\n",
    "print(\"Binary tree:\")\n",
    "print(root)"
   ]
  }
 ],
 "metadata": {
  "kernelspec": {
   "display_name": "msds-env",
   "language": "python",
   "name": "python3"
  },
  "language_info": {
   "codemirror_mode": {
    "name": "ipython",
    "version": 3
   },
   "file_extension": ".py",
   "mimetype": "text/x-python",
   "name": "python",
   "nbconvert_exporter": "python",
   "pygments_lexer": "ipython3",
   "version": "3.9.19"
  }
 },
 "nbformat": 4,
 "nbformat_minor": 2
}
